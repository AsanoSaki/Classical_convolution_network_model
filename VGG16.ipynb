{
 "cells": [
  {
   "cell_type": "markdown",
   "metadata": {},
   "source": [
    "### VGG16网络"
   ]
  },
  {
   "cell_type": "code",
   "execution_count": null,
   "metadata": {},
   "outputs": [],
   "source": [
    "\"\"\"\n",
    "1、一张原始图片被resize到(224,224,3)。\n",
    "2、两次[3,3]卷积网络，输出的特征层为64，输出为(224,224,64)，再2X2最大池化，输出net为(112,112,64)。\n",
    "3、两次[3,3]卷积网络，输出的特征层为128，输出net为(112,112,128)，再2X2最大池化，输出net为(56,56,128)。\n",
    "4、三次[3,3]卷积网络，输出的特征层为256，输出net为(56,56,256)，再2X2最大池化，输出net为(28,28,256)。\n",
    "5、三次[3,3]卷积网络，输出的特征层为256，输出net为(28,28,512)，再2X2最大池化，输出net为(14,14,512)。\n",
    "6、三次[3,3]卷积网络，输出的特征层为256，输出net为(14,14,512)，再2X2最大池化，输出net为(7,7,512)。\n",
    "7、利用卷积的方式模拟全连接层，效果等同，输出net为(1,1,4096)。共进行两次。\n",
    "8、利用卷积的方式模拟全连接层，效果等同，输出net为(1,1,1000)。\n",
    "\"\"\""
   ]
  },
  {
   "cell_type": "code",
   "execution_count": null,
   "metadata": {},
   "outputs": [],
   "source": [
    "import numpy as np\n",
    "import tensorflow as tf\n",
    "from tensorflow import keras\n",
    "from tensorflow.keras import layers\n",
    "from tensorflow.keras.preprocessing import image\n",
    "from tensorflow.keras.applications.imagenet_utils import preprocess_input, decode_predictions"
   ]
  },
  {
   "cell_type": "code",
   "execution_count": null,
   "metadata": {},
   "outputs": [],
   "source": [
    "def VGG16(num_classes):\n",
    "    \n",
    "    # 224, 224, 3\n",
    "    image_input = keras.layers.Input(shape = (224, 224, 3))\n",
    "    \n",
    "    # 第一个卷积部分 unit 1\n",
    "    # 112，112，64\n",
    "    x = layers.Conv2D(64, kernel_size=[3, 3], padding=\"same\", activation=tf.nn.relu, name = 'block1_conv1')(image_input)\n",
    "    x = layers.Conv2D(64, kernel_size=[3, 3], padding=\"same\", activation=tf.nn.relu, name = 'block1_conv2')(x)\n",
    "    x = layers.MaxPool2D(pool_size=[2, 2], strides=2, name = 'block1_pool')(x)\n",
    "\n",
    "    # 第二个卷积部分 unit 2\n",
    "    # 56，56，128\n",
    "    x = layers.Conv2D(128, kernel_size=[3, 3], padding=\"same\", activation=tf.nn.relu, name = 'block2_conv1')(x)\n",
    "    x = layers.Conv2D(128, kernel_size=[3, 3], padding=\"same\", activation=tf.nn.relu, name = 'block2_conv2')(x)\n",
    "    x = layers.MaxPool2D(pool_size=[2, 2], strides=2, name = 'block2_pool')(x)\n",
    "\n",
    "    # 第三个卷积部分 unit 3\n",
    "    # 28, 28, 256\n",
    "    x = layers.Conv2D(256, kernel_size=[3, 3], padding=\"same\",activation=tf.nn.relu,  name = 'block3_conv1')(x)\n",
    "    x = layers.Conv2D(256, kernel_size=[3, 3], padding=\"same\", activation=tf.nn.relu, name = 'block3_conv2')(x)\n",
    "    x = layers.Conv2D(256, kernel_size=[3, 3], padding=\"same\", activation=tf.nn.relu, name = 'block3_conv3')(x)\n",
    "    x = layers.MaxPool2D(pool_size=[2, 2], strides=2, name = 'block3_pool')(x)\n",
    "\n",
    "    # 第四个卷积部分 unit 4\n",
    "    # 14,14,512\n",
    "    x = layers.Conv2D(512, kernel_size=[3, 3], padding=\"same\", activation=tf.nn.relu, name = 'block4_conv1')(x)\n",
    "    x = layers.Conv2D(512, kernel_size=[3, 3], padding=\"same\", activation=tf.nn.relu, name = 'block4_conv2')(x)\n",
    "    x = layers.Conv2D(512, kernel_size=[3, 3], padding=\"same\", activation=tf.nn.relu, name = 'block4_conv3')(x)\n",
    "    x = layers.MaxPool2D(pool_size=[2, 2], strides=2, name = 'block4_pool')(x)\n",
    "\n",
    "    # 第五个卷积部分 unit 5\n",
    "    # 7,7,512\n",
    "    x = layers.Conv2D(512, kernel_size=[3, 3], padding=\"same\", activation=tf.nn.relu, name = 'block5_conv1')(x)\n",
    "    x = layers.Conv2D(512, kernel_size=[3, 3], padding=\"same\", activation=tf.nn.relu, name = 'block5_conv2')(x)\n",
    "    x = layers.Conv2D(512, kernel_size=[3, 3], padding=\"same\", activation=tf.nn.relu, name = 'block5_conv3')(x)  \n",
    "    x = layers.MaxPool2D(pool_size=[2, 2], strides=2, name = 'block5_pool')(x)\n",
    "    \n",
    "    \n",
    "    # 分类部分\n",
    "    # 7x7x512  25088\n",
    "    x = layers.Flatten(name = 'flatten')(x)\n",
    "    # 4096   此处参数：25088 * 4096 + 4096 = 102764544（wx+b）\n",
    "    x = layers.Dense(4096, activation = 'relu', name = 'fullc1')(x)\n",
    "    # 4096\n",
    "    x = layers.Dense(4096, activation = 'relu', name = 'fullc2')(x)\n",
    "    # num_classes\n",
    "    x = layers.Dense(num_classes, activation = 'softmax', name = 'fullc3')(x)\n",
    "    \n",
    "    model = keras.Model(image_input, x, name = 'vgg16')\n",
    "\n",
    "    return model\n",
    "    "
   ]
  },
  {
   "cell_type": "code",
   "execution_count": null,
   "metadata": {},
   "outputs": [],
   "source": [
    "model = VGG16(1000)\n",
    "model.summary()"
   ]
  },
  {
   "cell_type": "code",
   "execution_count": null,
   "metadata": {},
   "outputs": [],
   "source": [
    "WEIGHTS_PATH = 'https://github.com/fchollet/deep-learning-models/releases/download/v0.1/vgg16_weights_tf_dim_ordering_tf_kernels.h5'\n",
    "\n",
    "\n",
    "model = VGG16(1000)\n",
    "weights_path = tf.keras.utils.get_file('vgg16_weights_tf_dim_ordering_tf_kernels.h5',\n",
    "                                        WEIGHTS_PATH,\n",
    "                                        cache_subdir='models')\n",
    "\n",
    "model.load_weights(weights_path)"
   ]
  },
  {
   "cell_type": "code",
   "execution_count": null,
   "metadata": {},
   "outputs": [],
   "source": [
    "img_path = 'image_of_predict/Sika_deer.jpg'\n",
    "img = image.load_img(img_path, target_size=(224, 224))"
   ]
  },
  {
   "cell_type": "code",
   "execution_count": null,
   "metadata": {},
   "outputs": [],
   "source": [
    "img"
   ]
  },
  {
   "cell_type": "code",
   "execution_count": null,
   "metadata": {},
   "outputs": [],
   "source": [
    "x = image.img_to_array(img)\n",
    "x.shape"
   ]
  },
  {
   "cell_type": "code",
   "execution_count": null,
   "metadata": {},
   "outputs": [],
   "source": [
    "x = np.expand_dims(x, axis=0)\n",
    "x.shape"
   ]
  },
  {
   "cell_type": "code",
   "execution_count": null,
   "metadata": {},
   "outputs": [],
   "source": [
    "np.max(x),np.min(x),np.mean(x)"
   ]
  },
  {
   "cell_type": "code",
   "execution_count": null,
   "metadata": {},
   "outputs": [],
   "source": [
    "x = preprocess_input(x)\n",
    "print('Input image shape:', x.shape)"
   ]
  },
  {
   "cell_type": "code",
   "execution_count": null,
   "metadata": {},
   "outputs": [],
   "source": [
    "np.max(x),np.min(x),np.mean(x)"
   ]
  },
  {
   "cell_type": "code",
   "execution_count": null,
   "metadata": {},
   "outputs": [],
   "source": [
    "preds = model.predict(x)"
   ]
  },
  {
   "cell_type": "code",
   "execution_count": null,
   "metadata": {},
   "outputs": [],
   "source": [
    "preds\n",
    "print('Predicted:', decode_predictions(preds))"
   ]
  },
  {
   "cell_type": "code",
   "execution_count": null,
   "metadata": {},
   "outputs": [],
   "source": []
  }
 ],
 "metadata": {
  "kernelspec": {
   "display_name": "Python 3",
   "language": "python",
   "name": "python3"
  },
  "language_info": {
   "codemirror_mode": {
    "name": "ipython",
    "version": 3
   },
   "file_extension": ".py",
   "mimetype": "text/x-python",
   "name": "python",
   "nbconvert_exporter": "python",
   "pygments_lexer": "ipython3",
   "version": "3.7.3"
  }
 },
 "nbformat": 4,
 "nbformat_minor": 2
}
